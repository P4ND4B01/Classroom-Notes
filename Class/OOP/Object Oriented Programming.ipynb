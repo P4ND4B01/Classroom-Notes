{
 "cells": [
  {
   "cell_type": "markdown",
   "metadata": {},
   "source": [
    "# Classes"
   ]
  },
  {
   "cell_type": "code",
   "execution_count": 9,
   "metadata": {},
   "outputs": [
    {
     "name": "stdout",
     "output_type": "stream",
     "text": [
      "Hello\n",
      "Hello\n"
     ]
    }
   ],
   "source": [
    "class a:\n",
    "    def hello():\n",
    "        print(\"Hello\")\n",
    "a.hello()\n",
    "b=a\n",
    "b.hello()"
   ]
  },
  {
   "cell_type": "code",
   "execution_count": 4,
   "metadata": {},
   "outputs": [
    {
     "name": "stdout",
     "output_type": "stream",
     "text": [
      "hello hi\n"
     ]
    }
   ],
   "source": [
    "class one:\n",
    "    def __init__(self,name):\n",
    "        self.name=name\n",
    "    def hi(self):\n",
    "        print(\"hello \"+self.name)\n",
    "a=one('hi')\n",
    "a.hi()"
   ]
  },
  {
   "cell_type": "code",
   "execution_count": 7,
   "metadata": {},
   "outputs": [
    {
     "name": "stdout",
     "output_type": "stream",
     "text": [
      "hello 1\n",
      "a\n",
      "hello 2\n",
      "b\n",
      "hi\n",
      "hello 1b\n",
      "b\n",
      "hello 2\n"
     ]
    }
   ],
   "source": [
    "\"\"\"INHERITANCE\"\"\"\n",
    "# class \"two\" is an inherited class, whose superclass in the class \"one\", defined in the previous cell.\n",
    "class two(one):\n",
    "    a=\"hello\"\n",
    "    \n",
    "two_1=two(\"1\")\n",
    "two_1.a=\"a\"\n",
    "two_1.hi()\n",
    "print(two_1.a)\n",
    "\n",
    "two_2=two(\"2\")\n",
    "two_2.a=\"b\"\n",
    "two_2.hi()\n",
    "print(two_2.a)\n",
    "\n",
    "two.a=\"hi\"\n",
    "two_1=two(\"1b\")\n",
    "print(two_1.a)\n",
    "two_1.hi()\n",
    "print(two_2.a)\n",
    "two_2.hi()"
   ]
  },
  {
   "cell_type": "code",
   "execution_count": 12,
   "metadata": {},
   "outputs": [
    {
     "name": "stdout",
     "output_type": "stream",
     "text": [
      "<class 'myClass'> Constructor: a = 10\n"
     ]
    }
   ],
   "source": [
    "\"\"\"__str__\"\"\"\n",
    "\n",
    "class myClass:\n",
    "    def __init__(self,a):\n",
    "        self.a=a\n",
    "    def __str__(self):\n",
    "        return(\"<class 'myClass'>\")\n",
    "    \n",
    "c=myClass(10)\n",
    "print(c,\"Constructor: a =\",c.a)"
   ]
  },
  {
   "cell_type": "code",
   "execution_count": 43,
   "metadata": {},
   "outputs": [
    {
     "name": "stdout",
     "output_type": "stream",
     "text": [
      "(10, 20) {'b': 'hi', 'c': 'colin'}\n"
     ]
    }
   ],
   "source": [
    "\"\"\"__call__\"\"\"\n",
    "\n",
    "class my:\n",
    "    def __str__(self):\n",
    "        return \"this is call\"\n",
    "    def __call__(self,*x,**y):\n",
    "        print(x,y)\n",
    "        \n",
    "a=my()\n",
    "a(10,20,b=\"hi\",c=\"colin\")\n",
    "\n"
   ]
  },
  {
   "cell_type": "code",
   "execution_count": null,
   "metadata": {},
   "outputs": [],
   "source": [
    "\"\"\"destructor del object\"\"\""
   ]
  },
  {
   "cell_type": "code",
   "execution_count": null,
   "metadata": {},
   "outputs": [],
   "source": []
  },
  {
   "cell_type": "code",
   "execution_count": null,
   "metadata": {},
   "outputs": [],
   "source": []
  },
  {
   "cell_type": "code",
   "execution_count": null,
   "metadata": {},
   "outputs": [],
   "source": []
  }
 ],
 "metadata": {
  "kernelspec": {
   "display_name": "Python 3",
   "language": "python",
   "name": "python3"
  },
  "language_info": {
   "codemirror_mode": {
    "name": "ipython",
    "version": 3
   },
   "file_extension": ".py",
   "mimetype": "text/x-python",
   "name": "python",
   "nbconvert_exporter": "python",
   "pygments_lexer": "ipython3",
   "version": "3.6.5"
  }
 },
 "nbformat": 4,
 "nbformat_minor": 2
}
